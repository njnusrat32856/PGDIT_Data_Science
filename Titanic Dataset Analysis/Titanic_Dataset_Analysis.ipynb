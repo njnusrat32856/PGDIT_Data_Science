{
 "cells": [
  {
   "cell_type": "code",
   "execution_count": 4,
   "id": "98f3f890-27cd-4444-8200-0f7b0a2264bd",
   "metadata": {},
   "outputs": [
    {
     "name": "stdout",
     "output_type": "stream",
     "text": [
      "        AgeCategory     Sex Embarked  Pclass  Survival_Probability\n",
      "0      Child (0-13)  female        C       2                 1.000\n",
      "1      Child (0-13)  female        C       3                 0.857\n",
      "2      Child (0-13)  female        S       1                 0.000\n",
      "3      Child (0-13)  female        S       2                 1.000\n",
      "4      Child (0-13)  female        S       3                 0.353\n",
      "5      Child (0-13)    male        C       2                 1.000\n",
      "6      Child (0-13)    male        C       3                 0.667\n",
      "7      Child (0-13)    male        Q       3                 0.000\n",
      "8      Child (0-13)    male        S       1                 1.000\n",
      "9      Child (0-13)    male        S       2                 1.000\n",
      "10     Child (0-13)    male        S       3                 0.389\n",
      "11     Teen (14-18)  female        C       1                 1.000\n",
      "12     Teen (14-18)  female        C       2                 1.000\n",
      "13     Teen (14-18)  female        C       3                 0.500\n",
      "14     Teen (14-18)  female        Q       3                 0.750\n",
      "15     Teen (14-18)  female        S       1                 1.000\n",
      "16     Teen (14-18)  female        S       2                 1.000\n",
      "17     Teen (14-18)  female        S       3                 0.444\n",
      "18     Teen (14-18)    male        C       1                 0.500\n",
      "19     Teen (14-18)    male        C       3                 0.000\n",
      "20     Teen (14-18)    male        S       2                 0.000\n",
      "21     Teen (14-18)    male        S       3                 0.083\n",
      "22    Adult (19-40)  female        C       1                 1.000\n",
      "23    Adult (19-40)  female        C       2                 1.000\n",
      "24    Adult (19-40)  female        C       3                 0.667\n",
      "25    Adult (19-40)  female        Q       1                 1.000\n",
      "26    Adult (19-40)  female        Q       2                 1.000\n",
      "27    Adult (19-40)  female        Q       3                 0.724\n",
      "28    Adult (19-40)  female        S       1                 0.968\n",
      "29    Adult (19-40)  female        S       2                 0.907\n",
      "30    Adult (19-40)  female        S       3                 0.407\n",
      "31    Adult (19-40)    male        C       1                 0.440\n",
      "32    Adult (19-40)    male        C       2                 0.111\n",
      "33    Adult (19-40)    male        C       3                 0.216\n",
      "34    Adult (19-40)    male        Q       3                 0.094\n",
      "35    Adult (19-40)    male        S       1                 0.381\n",
      "36    Adult (19-40)    male        S       2                 0.079\n",
      "37    Adult (19-40)    male        S       3                 0.117\n",
      "38  Senior (41-100)  female        C       1                 0.929\n",
      "39  Senior (41-100)  female        C       3                 0.000\n",
      "40  Senior (41-100)  female        S       1                 1.000\n",
      "41  Senior (41-100)  female        S       2                 0.846\n",
      "42  Senior (41-100)  female        S       3                 0.125\n",
      "43  Senior (41-100)    male        C       1                 0.333\n",
      "44  Senior (41-100)    male        C       3                 0.000\n",
      "45  Senior (41-100)    male        Q       1                 0.000\n",
      "46  Senior (41-100)    male        Q       2                 0.000\n",
      "47  Senior (41-100)    male        Q       3                 0.000\n",
      "48  Senior (41-100)    male        S       1                 0.265\n",
      "49  Senior (41-100)    male        S       2                 0.100\n",
      "50  Senior (41-100)    male        S       3                 0.074\n"
     ]
    }
   ],
   "source": [
    "import pandas as pd\n",
    "import numpy as np\n",
    "\n",
    "# Load the dataset\n",
    "titanic = pd.read_csv(\"titanic - titanic.csv\")\n",
    "\n",
    "# Fill missing values safely (without inplace warning)\n",
    "titanic['Age'] = titanic['Age'].fillna(titanic['Age'].median())\n",
    "titanic['Embarked'] = titanic['Embarked'].fillna(titanic['Embarked'].mode()[0])\n",
    "\n",
    "# Create age categories\n",
    "bins = [0, 13, 18, 40, 100]\n",
    "labels = ['Child (0-13)', 'Teen (14-18)', 'Adult (19-40)', 'Senior (41-100)']\n",
    "titanic['AgeCategory'] = pd.cut(titanic['Age'], bins=bins, labels=labels, include_lowest=True, right=True)\n",
    "\n",
    "# Group by AgeCategory, Sex, Embarked, and Pclass\n",
    "grouped = titanic.groupby(['AgeCategory', 'Sex', 'Embarked', 'Pclass'], observed=True)['Survived']\n",
    "\n",
    "# Calculate survival probability for each group\n",
    "survival_probs = grouped.mean().reset_index()\n",
    "survival_probs.rename(columns={'Survived': 'Survival_Probability'}, inplace=True)\n",
    "survival_probs['Survival_Probability'] = np.round(survival_probs['Survival_Probability'], 3)\n",
    "\n",
    "# Display the result\n",
    "print(survival_probs)\n"
   ]
  },
  {
   "cell_type": "code",
   "execution_count": null,
   "id": "e09cff15-b64c-4fd5-be78-34f75e550b47",
   "metadata": {},
   "outputs": [],
   "source": []
  }
 ],
 "metadata": {
  "kernelspec": {
   "display_name": "Python [conda env:base] *",
   "language": "python",
   "name": "conda-base-py"
  },
  "language_info": {
   "codemirror_mode": {
    "name": "ipython",
    "version": 3
   },
   "file_extension": ".py",
   "mimetype": "text/x-python",
   "name": "python",
   "nbconvert_exporter": "python",
   "pygments_lexer": "ipython3",
   "version": "3.13.5"
  }
 },
 "nbformat": 4,
 "nbformat_minor": 5
}
