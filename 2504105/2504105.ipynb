{
 "cells": [
  {
   "cell_type": "code",
   "execution_count": 1,
   "id": "e2556420-b916-4d98-a964-a6d1bb3d267b",
   "metadata": {},
   "outputs": [
    {
     "name": "stdout",
     "output_type": "stream",
     "text": [
      "Scores array:\n",
      "[[78 85 88 70 90]\n",
      " [60 65 70 75 80]\n",
      " [90 88 85 92 95]\n",
      " [55 60 58 62 65]\n",
      " [85 82 80 78 88]\n",
      " [72 75 78 74 76]]\n",
      "\n",
      "Subjects order: ['Math', 'Science', 'English', 'History', 'Computers']\n"
     ]
    }
   ],
   "source": [
    "# Assignment (NumPy + Pandas Series)\n",
    "import numpy as np\n",
    "\n",
    "subjects = [\"Math\", \"Science\", \"English\", \"History\", \"Computers\"]\n",
    "\n",
    "scores = np.array([\n",
    "    [78, 85, 88, 70, 90],\n",
    "    [60, 65, 70, 75, 80],\n",
    "    [90, 88, 85, 92, 95],\n",
    "    [55, 60, 58, 62, 65],\n",
    "    [85, 82, 80, 78, 88],\n",
    "    [72, 75, 78, 74, 76]\n",
    "])\n",
    "\n",
    "print(\"Scores array:\")\n",
    "print(scores)\n",
    "print(\"\\nSubjects order:\", subjects)"
   ]
  },
  {
   "cell_type": "code",
   "execution_count": 10,
   "id": "e612cb44-620a-499d-95fd-3226fa9984e6",
   "metadata": {},
   "outputs": [
    {
     "name": "stdout",
     "output_type": "stream",
     "text": [
      "Task A1.1: First 3 students:\n",
      "[[78 85 88 70 90]\n",
      " [60 65 70 75 80]\n",
      " [90 88 85 92 95]]\n"
     ]
    }
   ],
   "source": [
    "# A1.1 First 3 students\n",
    "print(\"Task A1.1: First 3 students:\")\n",
    "print(scores[:3])"
   ]
  },
  {
   "cell_type": "code",
   "execution_count": 11,
   "id": "ec76726b-36c2-427e-acfb-0e4b75ee2f8b",
   "metadata": {},
   "outputs": [
    {
     "name": "stdout",
     "output_type": "stream",
     "text": [
      "Task A1.2: English scores:\n",
      "[88 70 85 58 80 78]\n"
     ]
    }
   ],
   "source": [
    "# A1.2 All English scores (3rd subject)\n",
    "print(\"Task A1.2: English scores:\")\n",
    "print(scores[:,2])"
   ]
  },
  {
   "cell_type": "code",
   "execution_count": 12,
   "id": "a12fa32b-6bd1-46e5-8477-f2345744cad8",
   "metadata": {},
   "outputs": [
    {
     "name": "stdout",
     "output_type": "stream",
     "text": [
      "Task A1.3: Students with Computers > 80:\n",
      "[ True False  True False  True False]\n",
      "[[78 85 88 70 90]\n",
      " [90 88 85 92 95]\n",
      " [85 82 80 78 88]]\n",
      "Computer scores: [90 95 88]\n"
     ]
    }
   ],
   "source": [
    "# A1.3 Students with Computers>80\n",
    "print(\"Task A1.3: Students with Computers > 80:\")\n",
    "mask_comp_gt80 = scores[:,4] > 80\n",
    "print(mask_comp_gt80)\n",
    "print(scores[mask_comp_gt80])\n",
    "print(\"Computer scores:\", scores[mask_comp_gt80,4])"
   ]
  },
  {
   "cell_type": "code",
   "execution_count": 13,
   "id": "6754c986-7029-4f85-baa9-9ffb1427665f",
   "metadata": {},
   "outputs": [
    {
     "name": "stdout",
     "output_type": "stream",
     "text": [
      "Task A1.4: Students with avg > 75:\n",
      "Student averages: [82.2 70.  90.  60.  82.6 75. ]\n",
      "Mask: [ True False  True False  True False]\n",
      "[[78 85 88 70 90]\n",
      " [90 88 85 92 95]\n",
      " [85 82 80 78 88]]\n"
     ]
    }
   ],
   "source": [
    "# A1.4 Students with avg > 75\n",
    "print(\"Task A1.4: Students with avg > 75:\")\n",
    "student_averages = scores.mean(axis=1)\n",
    "print(\"Student averages:\", student_averages)\n",
    "mask_avg_gt75 = student_averages > 75\n",
    "print(\"Mask:\", mask_avg_gt75)\n",
    "print(scores[mask_avg_gt75])"
   ]
  },
  {
   "cell_type": "code",
   "execution_count": 7,
   "id": "eba3a475-bdff-44b5-b683-e29cadb767f2",
   "metadata": {},
   "outputs": [
    {
     "name": "stdout",
     "output_type": "stream",
     "text": [
      "Task A2: Score summary (per subject):\n",
      "Math: avg=73.33, max=90, min=55\n",
      "Science: avg=75.83, max=88, min=60\n",
      "English: avg=76.50, max=88, min=58\n",
      "History: avg=75.17, max=92, min=62\n",
      "Computers: avg=82.33, max=95, min=65\n",
      "Highest overall average subject: Computers\n"
     ]
    }
   ],
   "source": [
    "# A2 Score Summary\n",
    "print(\"Task A2: Score summary (per subject):\")\n",
    "subj_avg = scores.mean(axis=0)\n",
    "subj_max = scores.max(axis=0)\n",
    "subj_min = scores.min(axis=0)\n",
    "for i,s in enumerate(subjects):\n",
    "    print(f\"{s}: avg={subj_avg[i]:.2f}, max={subj_max[i]}, min={subj_min[i]}\")\n",
    "print(\"Highest overall average subject:\", subjects[subj_avg.argmax()])"
   ]
  },
  {
   "cell_type": "code",
   "execution_count": 14,
   "id": "7ba8705b-4ae0-4d71-b7fd-bae26decaf66",
   "metadata": {},
   "outputs": [
    {
     "name": "stdout",
     "output_type": "stream",
     "text": [
      "Attendance:\n",
      "S1    92\n",
      "S2    80\n",
      "S3    95\n",
      "S4    70\n",
      "S5    88\n",
      "S6    85\n",
      "dtype: int64\n"
     ]
    }
   ],
   "source": [
    "# Section B: Attendance\n",
    "import pandas as pd\n",
    "\n",
    "attendance = pd.Series([92,80,95,70,88,85], index=[\"S1\",\"S2\",\"S3\",\"S4\",\"S5\",\"S6\"])\n",
    "print(\"Attendance:\")\n",
    "print(attendance)"
   ]
  },
  {
   "cell_type": "code",
   "execution_count": 15,
   "id": "91e88415-20b6-41f9-90b5-5baa3c2895be",
   "metadata": {},
   "outputs": [
    {
     "name": "stdout",
     "output_type": "stream",
     "text": [
      "Task B1.1 Students with attendance < 85:\n",
      "S2    80\n",
      "S4    70\n",
      "dtype: int64\n"
     ]
    }
   ],
   "source": [
    "print(\"Task B1.1 Students with attendance < 85:\")\n",
    "print(attendance[attendance < 85])"
   ]
  },
  {
   "cell_type": "code",
   "execution_count": 16,
   "id": "39595381-0398-4f2d-9481-5796334dbbf6",
   "metadata": {},
   "outputs": [
    {
     "name": "stdout",
     "output_type": "stream",
     "text": [
      "Task B1.2 Count attendance >= 90:\n",
      "2\n"
     ]
    }
   ],
   "source": [
    "print(\"Task B1.2 Count attendance >= 90:\")\n",
    "print((attendance >= 90).sum())"
   ]
  },
  {
   "cell_type": "code",
   "execution_count": 17,
   "id": "c643ef7f-9a13-4752-8ccd-9d0128668300",
   "metadata": {},
   "outputs": [
    {
     "name": "stdout",
     "output_type": "stream",
     "text": [
      "Task B1.3 Average attendance:\n",
      "85.0\n"
     ]
    }
   ],
   "source": [
    "print(\"Task B1.3 Average attendance:\")\n",
    "print(attendance.mean())"
   ]
  },
  {
   "cell_type": "code",
   "execution_count": 18,
   "id": "b6a29da8-2e0d-4792-a015-1894123a5249",
   "metadata": {},
   "outputs": [
    {
     "name": "stdout",
     "output_type": "stream",
     "text": [
      "Task B2.1 Compute average score per student from NumPy array:\n",
      "[82.2 70.  90.  60.  82.6 75. ]\n"
     ]
    }
   ],
   "source": [
    "print(\"Task B2.1 Compute average score per student from NumPy array:\")\n",
    "print(student_averages)"
   ]
  },
  {
   "cell_type": "code",
   "execution_count": 19,
   "id": "4c55b707-88eb-45fa-92d2-22ffd3f204ec",
   "metadata": {},
   "outputs": [
    {
     "name": "stdout",
     "output_type": "stream",
     "text": [
      "Task B2.2 Created new Pandas Series with student labels S1..S6:\n",
      "S1    82.2\n",
      "S2    70.0\n",
      "S3    90.0\n",
      "S4    60.0\n",
      "S5    82.6\n",
      "S6    75.0\n",
      "dtype: float64\n"
     ]
    }
   ],
   "source": [
    "print(\"Task B2.2 Created new Pandas Series with student labels S1..S6:\")\n",
    "avg_score_series = pd.Series(student_averages, index=[\"S1\",\"S2\",\"S3\",\"S4\",\"S5\",\"S6\"])\n",
    "print(avg_score_series)"
   ]
  },
  {
   "cell_type": "code",
   "execution_count": 20,
   "id": "6e72a5f5-e6c0-44c5-a21d-1623b1b1588b",
   "metadata": {},
   "outputs": [
    {
     "name": "stdout",
     "output_type": "stream",
     "text": [
      "Task B2.3 Identify students with avg score > 75 AND attendance >= 85%:\n",
      "\n",
      "Condition mask:\n",
      "S1     True\n",
      "S2    False\n",
      "S3     True\n",
      "S4    False\n",
      "S5     True\n",
      "S6    False\n",
      "dtype: bool\n",
      "Students satisfying both: ['S1', 'S3', 'S5']\n"
     ]
    }
   ],
   "source": [
    "print(\"Task B2.3 Identify students with avg score > 75 AND attendance >= 85%:\")\n",
    "print(\"\\nCondition mask:\")\n",
    "cond = (avg_score_series > 75) & (attendance >= 85)\n",
    "print(cond)\n",
    "print(\"Students satisfying both:\", list(cond[cond].index))"
   ]
  },
  {
   "cell_type": "code",
   "execution_count": null,
   "id": "c197e50c-fce6-438c-85a1-8e59e9403e4a",
   "metadata": {},
   "outputs": [],
   "source": []
  }
 ],
 "metadata": {
  "kernelspec": {
   "display_name": "Python [conda env:base] *",
   "language": "python",
   "name": "conda-base-py"
  },
  "language_info": {
   "codemirror_mode": {
    "name": "ipython",
    "version": 3
   },
   "file_extension": ".py",
   "mimetype": "text/x-python",
   "name": "python",
   "nbconvert_exporter": "python",
   "pygments_lexer": "ipython3",
   "version": "3.13.5"
  }
 },
 "nbformat": 4,
 "nbformat_minor": 5
}
