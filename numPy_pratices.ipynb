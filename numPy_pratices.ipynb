{
 "cells": [
  {
   "cell_type": "code",
   "execution_count": 1,
   "id": "9a1459a8-e52a-4c6d-a7a4-1af9d670538f",
   "metadata": {},
   "outputs": [],
   "source": [
    "import numpy as np\n",
    "arr = np.array([1, 2, 3, 4, 5])"
   ]
  },
  {
   "cell_type": "code",
   "execution_count": 2,
   "id": "f6c2975f-bd2a-4558-9692-b5b9864465d5",
   "metadata": {},
   "outputs": [
    {
     "name": "stdout",
     "output_type": "stream",
     "text": [
      "[1 2 3 4 5]\n"
     ]
    }
   ],
   "source": [
    "print(arr)"
   ]
  },
  {
   "cell_type": "code",
   "execution_count": 7,
   "id": "f0e417e3-3208-445c-ac13-8b7c584c4267",
   "metadata": {},
   "outputs": [
    {
     "name": "stdout",
     "output_type": "stream",
     "text": [
      "[False False False  True  True  True]\n"
     ]
    }
   ],
   "source": [
    "arr = np.array([10, 20, 30, 40, 50, 60])\n",
    "bool_index = arr > 30\n",
    "print(bool_index)"
   ]
  },
  {
   "cell_type": "code",
   "execution_count": 8,
   "id": "2193a26f-4339-40cb-8aef-cd7849ef5285",
   "metadata": {},
   "outputs": [
    {
     "name": "stdout",
     "output_type": "stream",
     "text": [
      "[40 50 60]\n"
     ]
    }
   ],
   "source": [
    "filtered_arr = arr[bool_index]\n",
    "print(filtered_arr)"
   ]
  },
  {
   "cell_type": "code",
   "execution_count": 9,
   "id": "82c0e47b-8e87-44a7-ae40-e47ef54020bd",
   "metadata": {},
   "outputs": [
    {
     "name": "stdout",
     "output_type": "stream",
     "text": [
      "[40 50 60]\n"
     ]
    }
   ],
   "source": [
    "print(arr[arr > 30])"
   ]
  },
  {
   "cell_type": "code",
   "execution_count": 10,
   "id": "4b788086-c480-4f73-b350-15c5bb857e62",
   "metadata": {},
   "outputs": [
    {
     "name": "stdout",
     "output_type": "stream",
     "text": [
      "[20 25 30]\n"
     ]
    }
   ],
   "source": [
    "arr2d = np.array([[5, 10], [15, 20], [25, 30]])\n",
    "print(arr2d[arr2d > 15])"
   ]
  },
  {
   "cell_type": "code",
   "execution_count": 11,
   "id": "22360b36-7c9b-41c8-ab87-8ef35d6332fa",
   "metadata": {},
   "outputs": [
    {
     "data": {
      "text/plain": [
       "array([12, 24, 16, 21, 32, 29,  7, 15])"
      ]
     },
     "execution_count": 11,
     "metadata": {},
     "output_type": "execute_result"
    }
   ],
   "source": [
    "array1 = np.array([12, 24, 16, 21, 32, 29, 7, 15])\n",
    "array1"
   ]
  },
  {
   "cell_type": "code",
   "execution_count": 12,
   "id": "27585b78-f4e0-48c4-bee1-cb65d8c4ed74",
   "metadata": {},
   "outputs": [
    {
     "data": {
      "text/plain": [
       "array([False,  True, False,  True,  True,  True, False, False])"
      ]
     },
     "execution_count": 12,
     "metadata": {},
     "output_type": "execute_result"
    }
   ],
   "source": [
    "boolean_mask = array1 > 20\n",
    "boolean_mask"
   ]
  },
  {
   "cell_type": "code",
   "execution_count": 13,
   "id": "5f047e75-316d-4b82-943c-92a80ac8e6ad",
   "metadata": {},
   "outputs": [
    {
     "data": {
      "text/plain": [
       "array([False, False, False,  True, False,  True,  True,  True])"
      ]
     },
     "execution_count": 13,
     "metadata": {},
     "output_type": "execute_result"
    }
   ],
   "source": [
    "boolean_mask = array1 % 2 != 0\n",
    "boolean_mask"
   ]
  },
  {
   "cell_type": "code",
   "execution_count": 14,
   "id": "c7fe03da-88c6-4879-b9ec-fef7dd0c7037",
   "metadata": {},
   "outputs": [
    {
     "data": {
      "text/plain": [
       "array([21, 29,  7, 15])"
      ]
     },
     "execution_count": 14,
     "metadata": {},
     "output_type": "execute_result"
    }
   ],
   "source": [
    "boolean_mask = array1 % 2 != 0\n",
    "result = array1[boolean_mask]\n",
    "result"
   ]
  },
  {
   "cell_type": "code",
   "execution_count": 17,
   "id": "f9e24753-69da-42b0-a7ab-6055e999022b",
   "metadata": {},
   "outputs": [
    {
     "data": {
      "text/plain": [
       "array([54.34049418, 27.83693851, 42.45175907, 84.47761323,  0.47188562,\n",
       "       12.15691208, 67.07490847, 82.58527551, 13.67065897, 57.50933294])"
      ]
     },
     "execution_count": 17,
     "metadata": {},
     "output_type": "execute_result"
    }
   ],
   "source": [
    "np.random.seed(100)\n",
    "arr_x = np.random.rand(10) * 100\n",
    "arr_x"
   ]
  },
  {
   "cell_type": "code",
   "execution_count": 18,
   "id": "2626cab5-ee38-4d40-8ba2-0d82e0f151d2",
   "metadata": {},
   "outputs": [
    {
     "data": {
      "text/plain": [
       "array([ True, False, False,  True, False, False,  True,  True, False,\n",
       "        True])"
      ]
     },
     "execution_count": 18,
     "metadata": {},
     "output_type": "execute_result"
    }
   ],
   "source": [
    "mask = arr_x >50\n",
    "mask"
   ]
  },
  {
   "cell_type": "code",
   "execution_count": 19,
   "id": "db6a595e-154f-4ef0-a97a-6921895d4145",
   "metadata": {},
   "outputs": [
    {
     "data": {
      "text/plain": [
       "array([54.34049418, 84.47761323, 67.07490847, 82.58527551, 57.50933294])"
      ]
     },
     "execution_count": 19,
     "metadata": {},
     "output_type": "execute_result"
    }
   ],
   "source": [
    "arr_x[mask]"
   ]
  },
  {
   "cell_type": "code",
   "execution_count": null,
   "id": "28777ff2-0ccb-4910-bc78-19daad10abf8",
   "metadata": {},
   "outputs": [],
   "source": []
  }
 ],
 "metadata": {
  "kernelspec": {
   "display_name": "Python [conda env:base] *",
   "language": "python",
   "name": "conda-base-py"
  },
  "language_info": {
   "codemirror_mode": {
    "name": "ipython",
    "version": 3
   },
   "file_extension": ".py",
   "mimetype": "text/x-python",
   "name": "python",
   "nbconvert_exporter": "python",
   "pygments_lexer": "ipython3",
   "version": "3.13.5"
  }
 },
 "nbformat": 4,
 "nbformat_minor": 5
}
